{
 "metadata": {
  "language_info": {
   "codemirror_mode": {
    "name": "ipython",
    "version": 3
   },
   "file_extension": ".py",
   "mimetype": "text/x-python",
   "name": "python",
   "nbconvert_exporter": "python",
   "pygments_lexer": "ipython3",
   "version": "3.8.6-final"
  },
  "orig_nbformat": 2,
  "kernelspec": {
   "name": "python3",
   "display_name": "Python 3.8.6 64-bit",
   "metadata": {
    "interpreter": {
     "hash": "43085d38817097ba63fb00e679c1a1a50a57c02bdf9be3f61f9e9cb5b39ac069"
    }
   }
  }
 },
 "nbformat": 4,
 "nbformat_minor": 2,
 "cells": [
  {
   "source": [
    "pip install pandas"
   ],
   "cell_type": "markdown",
   "metadata": {}
  },
  {
   "source": [
    "import pandas as pd"
   ],
   "cell_type": "markdown",
   "metadata": {}
  },
  {
   "source": [
    "df_ratings = pd.read_csv(\n",
    "    \"C:/Users/HWAWEI/Desktop/bc/ml-1m/ratings.dat\",\n",
    "    sep=\"::\",\n",
    "    engine='python',\n",
    "    names=\"UserID::MovieID::Occupation::Zip-code\".split(\"::\")\n",
    ")\n"
   ],
   "cell_type": "code",
   "metadata": {},
   "execution_count": 59,
   "outputs": []
  },
  {
   "source": [
    "df_ratings.head()"
   ],
   "cell_type": "code",
   "metadata": {},
   "execution_count": 63,
   "outputs": [
    {
     "output_type": "execute_result",
     "data": {
      "text/plain": [
       "   UserID  MovieID  Occupation   Zip-code\n",
       "0       1     1193           5  978300760\n",
       "1       1      661           3  978302109\n",
       "2       1      914           3  978301968\n",
       "3       1     3408           4  978300275\n",
       "4       1     2355           5  978824291"
      ],
      "text/html": "<div>\n<style scoped>\n    .dataframe tbody tr th:only-of-type {\n        vertical-align: middle;\n    }\n\n    .dataframe tbody tr th {\n        vertical-align: top;\n    }\n\n    .dataframe thead th {\n        text-align: right;\n    }\n</style>\n<table border=\"1\" class=\"dataframe\">\n  <thead>\n    <tr style=\"text-align: right;\">\n      <th></th>\n      <th>UserID</th>\n      <th>MovieID</th>\n      <th>Occupation</th>\n      <th>Zip-code</th>\n    </tr>\n  </thead>\n  <tbody>\n    <tr>\n      <th>0</th>\n      <td>1</td>\n      <td>1193</td>\n      <td>5</td>\n      <td>978300760</td>\n    </tr>\n    <tr>\n      <th>1</th>\n      <td>1</td>\n      <td>661</td>\n      <td>3</td>\n      <td>978302109</td>\n    </tr>\n    <tr>\n      <th>2</th>\n      <td>1</td>\n      <td>914</td>\n      <td>3</td>\n      <td>978301968</td>\n    </tr>\n    <tr>\n      <th>3</th>\n      <td>1</td>\n      <td>3408</td>\n      <td>4</td>\n      <td>978300275</td>\n    </tr>\n    <tr>\n      <th>4</th>\n      <td>1</td>\n      <td>2355</td>\n      <td>5</td>\n      <td>978824291</td>\n    </tr>\n  </tbody>\n</table>\n</div>"
     },
     "metadata": {},
     "execution_count": 63
    }
   ]
  },
  {
   "source": [
    "df_users = pd.read_csv(\n",
    "    \"C:/Users/HWAWEI/Desktop/bc/ml-1m/users.dat\",\n",
    "    sep=\"::\",\n",
    "    engine='python',\n",
    "    names=\"UserID::Title::Genres\".split(\"::\")\n",
    ")    "
   ],
   "cell_type": "code",
   "metadata": {},
   "execution_count": 64,
   "outputs": []
  },
  {
   "source": [
    "df_users.head()"
   ],
   "cell_type": "code",
   "metadata": {},
   "execution_count": 65,
   "outputs": [
    {
     "output_type": "execute_result",
     "data": {
      "text/plain": [
       "     UserID  Title Genres\n",
       "1 F       1     10  48067\n",
       "2 M      56     16  70072\n",
       "3 M      25     15  55117\n",
       "4 M      45      7  02460\n",
       "5 M      25     20  55455"
      ],
      "text/html": "<div>\n<style scoped>\n    .dataframe tbody tr th:only-of-type {\n        vertical-align: middle;\n    }\n\n    .dataframe tbody tr th {\n        vertical-align: top;\n    }\n\n    .dataframe thead th {\n        text-align: right;\n    }\n</style>\n<table border=\"1\" class=\"dataframe\">\n  <thead>\n    <tr style=\"text-align: right;\">\n      <th></th>\n      <th></th>\n      <th>UserID</th>\n      <th>Title</th>\n      <th>Genres</th>\n    </tr>\n  </thead>\n  <tbody>\n    <tr>\n      <th>1</th>\n      <th>F</th>\n      <td>1</td>\n      <td>10</td>\n      <td>48067</td>\n    </tr>\n    <tr>\n      <th>2</th>\n      <th>M</th>\n      <td>56</td>\n      <td>16</td>\n      <td>70072</td>\n    </tr>\n    <tr>\n      <th>3</th>\n      <th>M</th>\n      <td>25</td>\n      <td>15</td>\n      <td>55117</td>\n    </tr>\n    <tr>\n      <th>4</th>\n      <th>M</th>\n      <td>45</td>\n      <td>7</td>\n      <td>02460</td>\n    </tr>\n    <tr>\n      <th>5</th>\n      <th>M</th>\n      <td>25</td>\n      <td>20</td>\n      <td>55455</td>\n    </tr>\n  </tbody>\n</table>\n</div>"
     },
     "metadata": {},
     "execution_count": 65
    }
   ]
  },
  {
   "source": [
    "df_movies = pd.read_csv"
   ],
   "cell_type": "code",
   "metadata": {},
   "execution_count": 66,
   "outputs": []
  },
  {
   "source": [
    "df_movies = pd.read_csv(\n",
    "    \"C:/Users/HWAWEI/Desktop/bc/ml-1m/movies.dat\",\n",
    "    sep=\"::\",\n",
    "    engine='python',\n",
    "    names=\"MovieID::Title::Genres\".split(\"::\")\n",
    ")    "
   ],
   "cell_type": "code",
   "metadata": {},
   "execution_count": 67,
   "outputs": []
  },
  {
   "source": [
    "df_movies.head()"
   ],
   "cell_type": "code",
   "metadata": {},
   "execution_count": 60,
   "outputs": [
    {
     "output_type": "execute_result",
     "data": {
      "text/plain": [
       "   MovieID                               Title                        Genres\n",
       "0        1                    Toy Story (1995)   Animation|Children's|Comedy\n",
       "1        2                      Jumanji (1995)  Adventure|Children's|Fantasy\n",
       "2        3             Grumpier Old Men (1995)                Comedy|Romance\n",
       "3        4            Waiting to Exhale (1995)                  Comedy|Drama\n",
       "4        5  Father of the Bride Part II (1995)                        Comedy"
      ],
      "text/html": "<div>\n<style scoped>\n    .dataframe tbody tr th:only-of-type {\n        vertical-align: middle;\n    }\n\n    .dataframe tbody tr th {\n        vertical-align: top;\n    }\n\n    .dataframe thead th {\n        text-align: right;\n    }\n</style>\n<table border=\"1\" class=\"dataframe\">\n  <thead>\n    <tr style=\"text-align: right;\">\n      <th></th>\n      <th>MovieID</th>\n      <th>Title</th>\n      <th>Genres</th>\n    </tr>\n  </thead>\n  <tbody>\n    <tr>\n      <th>0</th>\n      <td>1</td>\n      <td>Toy Story (1995)</td>\n      <td>Animation|Children's|Comedy</td>\n    </tr>\n    <tr>\n      <th>1</th>\n      <td>2</td>\n      <td>Jumanji (1995)</td>\n      <td>Adventure|Children's|Fantasy</td>\n    </tr>\n    <tr>\n      <th>2</th>\n      <td>3</td>\n      <td>Grumpier Old Men (1995)</td>\n      <td>Comedy|Romance</td>\n    </tr>\n    <tr>\n      <th>3</th>\n      <td>4</td>\n      <td>Waiting to Exhale (1995)</td>\n      <td>Comedy|Drama</td>\n    </tr>\n    <tr>\n      <th>4</th>\n      <td>5</td>\n      <td>Father of the Bride Part II (1995)</td>\n      <td>Comedy</td>\n    </tr>\n  </tbody>\n</table>\n</div>"
     },
     "metadata": {},
     "execution_count": 60
    }
   ]
  },
  {
   "source": [
    "df_ratings_users = pd.merge(\n",
    "    df_ratings,df_users,left_on=\"UserID\",right_on=\"UserID\",how=\"inner\"\n",
    ")"
   ],
   "cell_type": "code",
   "metadata": {},
   "execution_count": 61,
   "outputs": []
  },
  {
   "source": [
    "df_ratings_users.head()"
   ],
   "cell_type": "code",
   "metadata": {},
   "execution_count": 62,
   "outputs": [
    {
     "output_type": "execute_result",
     "data": {
      "text/plain": [
       "   UserID  MovieID  Occupation   Zip-code  Title Genres\n",
       "0       1     1193           5  978300760     10  48067\n",
       "1       1     1193           5  978300760     10  48073\n",
       "2       1     1193           5  978300760     10  10562\n",
       "3       1     1193           5  978300760     10  01748\n",
       "4       1     1193           5  978300760     10  54467"
      ],
      "text/html": "<div>\n<style scoped>\n    .dataframe tbody tr th:only-of-type {\n        vertical-align: middle;\n    }\n\n    .dataframe tbody tr th {\n        vertical-align: top;\n    }\n\n    .dataframe thead th {\n        text-align: right;\n    }\n</style>\n<table border=\"1\" class=\"dataframe\">\n  <thead>\n    <tr style=\"text-align: right;\">\n      <th></th>\n      <th>UserID</th>\n      <th>MovieID</th>\n      <th>Occupation</th>\n      <th>Zip-code</th>\n      <th>Title</th>\n      <th>Genres</th>\n    </tr>\n  </thead>\n  <tbody>\n    <tr>\n      <th>0</th>\n      <td>1</td>\n      <td>1193</td>\n      <td>5</td>\n      <td>978300760</td>\n      <td>10</td>\n      <td>48067</td>\n    </tr>\n    <tr>\n      <th>1</th>\n      <td>1</td>\n      <td>1193</td>\n      <td>5</td>\n      <td>978300760</td>\n      <td>10</td>\n      <td>48073</td>\n    </tr>\n    <tr>\n      <th>2</th>\n      <td>1</td>\n      <td>1193</td>\n      <td>5</td>\n      <td>978300760</td>\n      <td>10</td>\n      <td>10562</td>\n    </tr>\n    <tr>\n      <th>3</th>\n      <td>1</td>\n      <td>1193</td>\n      <td>5</td>\n      <td>978300760</td>\n      <td>10</td>\n      <td>01748</td>\n    </tr>\n    <tr>\n      <th>4</th>\n      <td>1</td>\n      <td>1193</td>\n      <td>5</td>\n      <td>978300760</td>\n      <td>10</td>\n      <td>54467</td>\n    </tr>\n  </tbody>\n</table>\n</div>"
     },
     "metadata": {},
     "execution_count": 62
    }
   ]
  },
  {
   "source": [
    "df_ratings_users_movies=pd.merge(\n",
    "    df_ratings_users,df_movies,left_on=\"MovieID\",right_on=\"MovieID\",how=\"inner\"\n",
    ")"
   ],
   "cell_type": "code",
   "metadata": {},
   "execution_count": 69,
   "outputs": []
  },
  {
   "source": [
    "df_ratings_users_movies.head(10)"
   ],
   "cell_type": "code",
   "metadata": {},
   "execution_count": 70,
   "outputs": [
    {
     "output_type": "execute_result",
     "data": {
      "text/plain": [
       "   UserID  MovieID  Occupation   Zip-code  Title_x Genres_x  \\\n",
       "0       1     1193           5  978300760       10    48067   \n",
       "1       1     1193           5  978300760       10    48073   \n",
       "2       1     1193           5  978300760       10    10562   \n",
       "3       1     1193           5  978300760       10    01748   \n",
       "4       1     1193           5  978300760       10    54467   \n",
       "5       1     1193           5  978300760       10    19390   \n",
       "6       1     1193           5  978300760       10    77515   \n",
       "7       1     1193           5  978300760       10    51537   \n",
       "8       1     1193           5  978300760       10    29146   \n",
       "9       1     1193           5  978300760       10    25801   \n",
       "\n",
       "                                  Title_y Genres_y  \n",
       "0  One Flew Over the Cuckoo's Nest (1975)    Drama  \n",
       "1  One Flew Over the Cuckoo's Nest (1975)    Drama  \n",
       "2  One Flew Over the Cuckoo's Nest (1975)    Drama  \n",
       "3  One Flew Over the Cuckoo's Nest (1975)    Drama  \n",
       "4  One Flew Over the Cuckoo's Nest (1975)    Drama  \n",
       "5  One Flew Over the Cuckoo's Nest (1975)    Drama  \n",
       "6  One Flew Over the Cuckoo's Nest (1975)    Drama  \n",
       "7  One Flew Over the Cuckoo's Nest (1975)    Drama  \n",
       "8  One Flew Over the Cuckoo's Nest (1975)    Drama  \n",
       "9  One Flew Over the Cuckoo's Nest (1975)    Drama  "
      ],
      "text/html": "<div>\n<style scoped>\n    .dataframe tbody tr th:only-of-type {\n        vertical-align: middle;\n    }\n\n    .dataframe tbody tr th {\n        vertical-align: top;\n    }\n\n    .dataframe thead th {\n        text-align: right;\n    }\n</style>\n<table border=\"1\" class=\"dataframe\">\n  <thead>\n    <tr style=\"text-align: right;\">\n      <th></th>\n      <th>UserID</th>\n      <th>MovieID</th>\n      <th>Occupation</th>\n      <th>Zip-code</th>\n      <th>Title_x</th>\n      <th>Genres_x</th>\n      <th>Title_y</th>\n      <th>Genres_y</th>\n    </tr>\n  </thead>\n  <tbody>\n    <tr>\n      <th>0</th>\n      <td>1</td>\n      <td>1193</td>\n      <td>5</td>\n      <td>978300760</td>\n      <td>10</td>\n      <td>48067</td>\n      <td>One Flew Over the Cuckoo's Nest (1975)</td>\n      <td>Drama</td>\n    </tr>\n    <tr>\n      <th>1</th>\n      <td>1</td>\n      <td>1193</td>\n      <td>5</td>\n      <td>978300760</td>\n      <td>10</td>\n      <td>48073</td>\n      <td>One Flew Over the Cuckoo's Nest (1975)</td>\n      <td>Drama</td>\n    </tr>\n    <tr>\n      <th>2</th>\n      <td>1</td>\n      <td>1193</td>\n      <td>5</td>\n      <td>978300760</td>\n      <td>10</td>\n      <td>10562</td>\n      <td>One Flew Over the Cuckoo's Nest (1975)</td>\n      <td>Drama</td>\n    </tr>\n    <tr>\n      <th>3</th>\n      <td>1</td>\n      <td>1193</td>\n      <td>5</td>\n      <td>978300760</td>\n      <td>10</td>\n      <td>01748</td>\n      <td>One Flew Over the Cuckoo's Nest (1975)</td>\n      <td>Drama</td>\n    </tr>\n    <tr>\n      <th>4</th>\n      <td>1</td>\n      <td>1193</td>\n      <td>5</td>\n      <td>978300760</td>\n      <td>10</td>\n      <td>54467</td>\n      <td>One Flew Over the Cuckoo's Nest (1975)</td>\n      <td>Drama</td>\n    </tr>\n    <tr>\n      <th>5</th>\n      <td>1</td>\n      <td>1193</td>\n      <td>5</td>\n      <td>978300760</td>\n      <td>10</td>\n      <td>19390</td>\n      <td>One Flew Over the Cuckoo's Nest (1975)</td>\n      <td>Drama</td>\n    </tr>\n    <tr>\n      <th>6</th>\n      <td>1</td>\n      <td>1193</td>\n      <td>5</td>\n      <td>978300760</td>\n      <td>10</td>\n      <td>77515</td>\n      <td>One Flew Over the Cuckoo's Nest (1975)</td>\n      <td>Drama</td>\n    </tr>\n    <tr>\n      <th>7</th>\n      <td>1</td>\n      <td>1193</td>\n      <td>5</td>\n      <td>978300760</td>\n      <td>10</td>\n      <td>51537</td>\n      <td>One Flew Over the Cuckoo's Nest (1975)</td>\n      <td>Drama</td>\n    </tr>\n    <tr>\n      <th>8</th>\n      <td>1</td>\n      <td>1193</td>\n      <td>5</td>\n      <td>978300760</td>\n      <td>10</td>\n      <td>29146</td>\n      <td>One Flew Over the Cuckoo's Nest (1975)</td>\n      <td>Drama</td>\n    </tr>\n    <tr>\n      <th>9</th>\n      <td>1</td>\n      <td>1193</td>\n      <td>5</td>\n      <td>978300760</td>\n      <td>10</td>\n      <td>25801</td>\n      <td>One Flew Over the Cuckoo's Nest (1975)</td>\n      <td>Drama</td>\n    </tr>\n  </tbody>\n</table>\n</div>"
     },
     "metadata": {},
     "execution_count": 70
    }
   ]
  },
  {
   "cell_type": "code",
   "execution_count": 74,
   "metadata": {},
   "outputs": [
    {
     "output_type": "execute_result",
     "data": {
      "text/plain": [
       "   sno    name\n",
       "0   11  name_a\n",
       "1   12  name_b\n",
       "2   13  name_c\n",
       "3   14  name_d"
      ],
      "text/html": "<div>\n<style scoped>\n    .dataframe tbody tr th:only-of-type {\n        vertical-align: middle;\n    }\n\n    .dataframe tbody tr th {\n        vertical-align: top;\n    }\n\n    .dataframe thead th {\n        text-align: right;\n    }\n</style>\n<table border=\"1\" class=\"dataframe\">\n  <thead>\n    <tr style=\"text-align: right;\">\n      <th></th>\n      <th>sno</th>\n      <th>name</th>\n    </tr>\n  </thead>\n  <tbody>\n    <tr>\n      <th>0</th>\n      <td>11</td>\n      <td>name_a</td>\n    </tr>\n    <tr>\n      <th>1</th>\n      <td>12</td>\n      <td>name_b</td>\n    </tr>\n    <tr>\n      <th>2</th>\n      <td>13</td>\n      <td>name_c</td>\n    </tr>\n    <tr>\n      <th>3</th>\n      <td>14</td>\n      <td>name_d</td>\n    </tr>\n  </tbody>\n</table>\n</div>"
     },
     "metadata": {},
     "execution_count": 74
    }
   ],
   "source": [
    "left = pd.DataFrame({'sno':[11,12,13,14],\n",
    "                     'name':['name_a','name_b','name_c','name_d']\n",
    "                     })\n",
    "left"
   ]
  },
  {
   "cell_type": "code",
   "execution_count": 75,
   "metadata": {},
   "outputs": [
    {
     "output_type": "execute_result",
     "data": {
      "text/plain": [
       "   sno age\n",
       "0   11  21\n",
       "1   12  22\n",
       "2   13  23\n",
       "3   14  24"
      ],
      "text/html": "<div>\n<style scoped>\n    .dataframe tbody tr th:only-of-type {\n        vertical-align: middle;\n    }\n\n    .dataframe tbody tr th {\n        vertical-align: top;\n    }\n\n    .dataframe thead th {\n        text-align: right;\n    }\n</style>\n<table border=\"1\" class=\"dataframe\">\n  <thead>\n    <tr style=\"text-align: right;\">\n      <th></th>\n      <th>sno</th>\n      <th>age</th>\n    </tr>\n  </thead>\n  <tbody>\n    <tr>\n      <th>0</th>\n      <td>11</td>\n      <td>21</td>\n    </tr>\n    <tr>\n      <th>1</th>\n      <td>12</td>\n      <td>22</td>\n    </tr>\n    <tr>\n      <th>2</th>\n      <td>13</td>\n      <td>23</td>\n    </tr>\n    <tr>\n      <th>3</th>\n      <td>14</td>\n      <td>24</td>\n    </tr>\n  </tbody>\n</table>\n</div>"
     },
     "metadata": {},
     "execution_count": 75
    }
   ],
   "source": [
    "right=pd.DataFrame({'sno':[11,12,13,14],\n",
    "                    'age':['21','22','23','24']\n",
    "                    })\n",
    "right                    "
   ]
  },
  {
   "cell_type": "code",
   "execution_count": 76,
   "metadata": {},
   "outputs": [
    {
     "output_type": "execute_result",
     "data": {
      "text/plain": [
       "   sno    name age\n",
       "0   11  name_a  21\n",
       "1   12  name_b  22\n",
       "2   13  name_c  23\n",
       "3   14  name_d  24"
      ],
      "text/html": "<div>\n<style scoped>\n    .dataframe tbody tr th:only-of-type {\n        vertical-align: middle;\n    }\n\n    .dataframe tbody tr th {\n        vertical-align: top;\n    }\n\n    .dataframe thead th {\n        text-align: right;\n    }\n</style>\n<table border=\"1\" class=\"dataframe\">\n  <thead>\n    <tr style=\"text-align: right;\">\n      <th></th>\n      <th>sno</th>\n      <th>name</th>\n      <th>age</th>\n    </tr>\n  </thead>\n  <tbody>\n    <tr>\n      <th>0</th>\n      <td>11</td>\n      <td>name_a</td>\n      <td>21</td>\n    </tr>\n    <tr>\n      <th>1</th>\n      <td>12</td>\n      <td>name_b</td>\n      <td>22</td>\n    </tr>\n    <tr>\n      <th>2</th>\n      <td>13</td>\n      <td>name_c</td>\n      <td>23</td>\n    </tr>\n    <tr>\n      <th>3</th>\n      <td>14</td>\n      <td>name_d</td>\n      <td>24</td>\n    </tr>\n  </tbody>\n</table>\n</div>"
     },
     "metadata": {},
     "execution_count": 76
    }
   ],
   "source": [
    "pd.merge(left,right,on='sno')"
   ]
  },
  {
   "cell_type": "code",
   "execution_count": 78,
   "metadata": {},
   "outputs": [
    {
     "output_type": "execute_result",
     "data": {
      "text/plain": [
       "   sno    name\n",
       "0   11  name_a\n",
       "1   12  name_b\n",
       "2   13  name_c\n",
       "3   14  name_d"
      ],
      "text/html": "<div>\n<style scoped>\n    .dataframe tbody tr th:only-of-type {\n        vertical-align: middle;\n    }\n\n    .dataframe tbody tr th {\n        vertical-align: top;\n    }\n\n    .dataframe thead th {\n        text-align: right;\n    }\n</style>\n<table border=\"1\" class=\"dataframe\">\n  <thead>\n    <tr style=\"text-align: right;\">\n      <th></th>\n      <th>sno</th>\n      <th>name</th>\n    </tr>\n  </thead>\n  <tbody>\n    <tr>\n      <th>0</th>\n      <td>11</td>\n      <td>name_a</td>\n    </tr>\n    <tr>\n      <th>1</th>\n      <td>12</td>\n      <td>name_b</td>\n    </tr>\n    <tr>\n      <th>2</th>\n      <td>13</td>\n      <td>name_c</td>\n    </tr>\n    <tr>\n      <th>3</th>\n      <td>14</td>\n      <td>name_d</td>\n    </tr>\n  </tbody>\n</table>\n</div>"
     },
     "metadata": {},
     "execution_count": 78
    }
   ],
   "source": [
    "left=pd.DataFrame({'sno':[11,12,13,14],\n",
    "                   'name':['name_a','name_b','name_c','name_d']\n",
    "                   })\n",
    "left                   "
   ]
  },
  {
   "cell_type": "code",
   "execution_count": 80,
   "metadata": {},
   "outputs": [
    {
     "output_type": "execute_result",
     "data": {
      "text/plain": [
       "   sno grade\n",
       "0   11  语文88\n",
       "1   11  数学90\n",
       "2   11  英语75\n",
       "3   12  语文66\n",
       "4   12  数学55\n",
       "5   13  英语29"
      ],
      "text/html": "<div>\n<style scoped>\n    .dataframe tbody tr th:only-of-type {\n        vertical-align: middle;\n    }\n\n    .dataframe tbody tr th {\n        vertical-align: top;\n    }\n\n    .dataframe thead th {\n        text-align: right;\n    }\n</style>\n<table border=\"1\" class=\"dataframe\">\n  <thead>\n    <tr style=\"text-align: right;\">\n      <th></th>\n      <th>sno</th>\n      <th>grade</th>\n    </tr>\n  </thead>\n  <tbody>\n    <tr>\n      <th>0</th>\n      <td>11</td>\n      <td>语文88</td>\n    </tr>\n    <tr>\n      <th>1</th>\n      <td>11</td>\n      <td>数学90</td>\n    </tr>\n    <tr>\n      <th>2</th>\n      <td>11</td>\n      <td>英语75</td>\n    </tr>\n    <tr>\n      <th>3</th>\n      <td>12</td>\n      <td>语文66</td>\n    </tr>\n    <tr>\n      <th>4</th>\n      <td>12</td>\n      <td>数学55</td>\n    </tr>\n    <tr>\n      <th>5</th>\n      <td>13</td>\n      <td>英语29</td>\n    </tr>\n  </tbody>\n</table>\n</div>"
     },
     "metadata": {},
     "execution_count": 80
    }
   ],
   "source": [
    "right=pd.DataFrame({'sno':[11,11,11,12,12,13],\n",
    "                     'grade':['语文88','数学90','英语75','语文66','数学55','英语29']\n",
    "                     })\n",
    "right                    "
   ]
  },
  {
   "cell_type": "code",
   "execution_count": 81,
   "metadata": {},
   "outputs": [
    {
     "output_type": "execute_result",
     "data": {
      "text/plain": [
       "   sno    name grade\n",
       "0   11  name_a  语文88\n",
       "1   11  name_a  数学90\n",
       "2   11  name_a  英语75\n",
       "3   12  name_b  语文66\n",
       "4   12  name_b  数学55\n",
       "5   13  name_c  英语29"
      ],
      "text/html": "<div>\n<style scoped>\n    .dataframe tbody tr th:only-of-type {\n        vertical-align: middle;\n    }\n\n    .dataframe tbody tr th {\n        vertical-align: top;\n    }\n\n    .dataframe thead th {\n        text-align: right;\n    }\n</style>\n<table border=\"1\" class=\"dataframe\">\n  <thead>\n    <tr style=\"text-align: right;\">\n      <th></th>\n      <th>sno</th>\n      <th>name</th>\n      <th>grade</th>\n    </tr>\n  </thead>\n  <tbody>\n    <tr>\n      <th>0</th>\n      <td>11</td>\n      <td>name_a</td>\n      <td>语文88</td>\n    </tr>\n    <tr>\n      <th>1</th>\n      <td>11</td>\n      <td>name_a</td>\n      <td>数学90</td>\n    </tr>\n    <tr>\n      <th>2</th>\n      <td>11</td>\n      <td>name_a</td>\n      <td>英语75</td>\n    </tr>\n    <tr>\n      <th>3</th>\n      <td>12</td>\n      <td>name_b</td>\n      <td>语文66</td>\n    </tr>\n    <tr>\n      <th>4</th>\n      <td>12</td>\n      <td>name_b</td>\n      <td>数学55</td>\n    </tr>\n    <tr>\n      <th>5</th>\n      <td>13</td>\n      <td>name_c</td>\n      <td>英语29</td>\n    </tr>\n  </tbody>\n</table>\n</div>"
     },
     "metadata": {},
     "execution_count": 81
    }
   ],
   "source": [
    "pd.merge(left,right,on='sno')"
   ]
  },
  {
   "cell_type": "code",
   "execution_count": 82,
   "metadata": {},
   "outputs": [
    {
     "output_type": "execute_result",
     "data": {
      "text/plain": [
       "   sno   爱好\n",
       "0   11   篮球\n",
       "1   11  羽毛球\n",
       "2   12  乒乓球\n",
       "3   12   篮球\n",
       "4   12   足球"
      ],
      "text/html": "<div>\n<style scoped>\n    .dataframe tbody tr th:only-of-type {\n        vertical-align: middle;\n    }\n\n    .dataframe tbody tr th {\n        vertical-align: top;\n    }\n\n    .dataframe thead th {\n        text-align: right;\n    }\n</style>\n<table border=\"1\" class=\"dataframe\">\n  <thead>\n    <tr style=\"text-align: right;\">\n      <th></th>\n      <th>sno</th>\n      <th>爱好</th>\n    </tr>\n  </thead>\n  <tbody>\n    <tr>\n      <th>0</th>\n      <td>11</td>\n      <td>篮球</td>\n    </tr>\n    <tr>\n      <th>1</th>\n      <td>11</td>\n      <td>羽毛球</td>\n    </tr>\n    <tr>\n      <th>2</th>\n      <td>12</td>\n      <td>乒乓球</td>\n    </tr>\n    <tr>\n      <th>3</th>\n      <td>12</td>\n      <td>篮球</td>\n    </tr>\n    <tr>\n      <th>4</th>\n      <td>12</td>\n      <td>足球</td>\n    </tr>\n  </tbody>\n</table>\n</div>"
     },
     "metadata": {},
     "execution_count": 82
    }
   ],
   "source": [
    "left=pd.DataFrame({'sno':[11,11,12,12,12],\n",
    "                   '爱好':['篮球','羽毛球','乒乓球','篮球','足球']\n",
    "                   })\n",
    "left                   "
   ]
  },
  {
   "cell_type": "code",
   "execution_count": 83,
   "metadata": {},
   "outputs": [
    {
     "output_type": "execute_result",
     "data": {
      "text/plain": [
       "   sno grade\n",
       "0   11  语文88\n",
       "1   11  数学90\n",
       "2   11  英语75\n",
       "3   12  语文66\n",
       "4   12  数学55\n",
       "5   13  英语29"
      ],
      "text/html": "<div>\n<style scoped>\n    .dataframe tbody tr th:only-of-type {\n        vertical-align: middle;\n    }\n\n    .dataframe tbody tr th {\n        vertical-align: top;\n    }\n\n    .dataframe thead th {\n        text-align: right;\n    }\n</style>\n<table border=\"1\" class=\"dataframe\">\n  <thead>\n    <tr style=\"text-align: right;\">\n      <th></th>\n      <th>sno</th>\n      <th>grade</th>\n    </tr>\n  </thead>\n  <tbody>\n    <tr>\n      <th>0</th>\n      <td>11</td>\n      <td>语文88</td>\n    </tr>\n    <tr>\n      <th>1</th>\n      <td>11</td>\n      <td>数学90</td>\n    </tr>\n    <tr>\n      <th>2</th>\n      <td>11</td>\n      <td>英语75</td>\n    </tr>\n    <tr>\n      <th>3</th>\n      <td>12</td>\n      <td>语文66</td>\n    </tr>\n    <tr>\n      <th>4</th>\n      <td>12</td>\n      <td>数学55</td>\n    </tr>\n    <tr>\n      <th>5</th>\n      <td>13</td>\n      <td>英语29</td>\n    </tr>\n  </tbody>\n</table>\n</div>"
     },
     "metadata": {},
     "execution_count": 83
    }
   ],
   "source": [
    "right=pd.DataFrame({'sno':[11,11,11,12,12,13],\n",
    "                   'grade':['语文88','数学90','英语75','语文66','数学55','英语29']\n",
    "                   })\n",
    "right   "
   ]
  },
  {
   "cell_type": "code",
   "execution_count": 84,
   "metadata": {},
   "outputs": [
    {
     "output_type": "execute_result",
     "data": {
      "text/plain": [
       "    sno   爱好 grade\n",
       "0    11   篮球  语文88\n",
       "1    11   篮球  数学90\n",
       "2    11   篮球  英语75\n",
       "3    11  羽毛球  语文88\n",
       "4    11  羽毛球  数学90\n",
       "5    11  羽毛球  英语75\n",
       "6    12  乒乓球  语文66\n",
       "7    12  乒乓球  数学55\n",
       "8    12   篮球  语文66\n",
       "9    12   篮球  数学55\n",
       "10   12   足球  语文66\n",
       "11   12   足球  数学55"
      ],
      "text/html": "<div>\n<style scoped>\n    .dataframe tbody tr th:only-of-type {\n        vertical-align: middle;\n    }\n\n    .dataframe tbody tr th {\n        vertical-align: top;\n    }\n\n    .dataframe thead th {\n        text-align: right;\n    }\n</style>\n<table border=\"1\" class=\"dataframe\">\n  <thead>\n    <tr style=\"text-align: right;\">\n      <th></th>\n      <th>sno</th>\n      <th>爱好</th>\n      <th>grade</th>\n    </tr>\n  </thead>\n  <tbody>\n    <tr>\n      <th>0</th>\n      <td>11</td>\n      <td>篮球</td>\n      <td>语文88</td>\n    </tr>\n    <tr>\n      <th>1</th>\n      <td>11</td>\n      <td>篮球</td>\n      <td>数学90</td>\n    </tr>\n    <tr>\n      <th>2</th>\n      <td>11</td>\n      <td>篮球</td>\n      <td>英语75</td>\n    </tr>\n    <tr>\n      <th>3</th>\n      <td>11</td>\n      <td>羽毛球</td>\n      <td>语文88</td>\n    </tr>\n    <tr>\n      <th>4</th>\n      <td>11</td>\n      <td>羽毛球</td>\n      <td>数学90</td>\n    </tr>\n    <tr>\n      <th>5</th>\n      <td>11</td>\n      <td>羽毛球</td>\n      <td>英语75</td>\n    </tr>\n    <tr>\n      <th>6</th>\n      <td>12</td>\n      <td>乒乓球</td>\n      <td>语文66</td>\n    </tr>\n    <tr>\n      <th>7</th>\n      <td>12</td>\n      <td>乒乓球</td>\n      <td>数学55</td>\n    </tr>\n    <tr>\n      <th>8</th>\n      <td>12</td>\n      <td>篮球</td>\n      <td>语文66</td>\n    </tr>\n    <tr>\n      <th>9</th>\n      <td>12</td>\n      <td>篮球</td>\n      <td>数学55</td>\n    </tr>\n    <tr>\n      <th>10</th>\n      <td>12</td>\n      <td>足球</td>\n      <td>语文66</td>\n    </tr>\n    <tr>\n      <th>11</th>\n      <td>12</td>\n      <td>足球</td>\n      <td>数学55</td>\n    </tr>\n  </tbody>\n</table>\n</div>"
     },
     "metadata": {},
     "execution_count": 84
    }
   ],
   "source": [
    "pd.merge(left,right,on='sno')"
   ]
  },
  {
   "cell_type": "code",
   "execution_count": 86,
   "metadata": {},
   "outputs": [],
   "source": [
    "left=pd.DataFrame({'key':['KO','K1','K2','K3'],\n",
    "                   'A':['AO','A1','A2','A3'],\n",
    "                   'B':['BO','B1','B2','B3']})\n",
    "\n",
    "right=pd.DataFrame({'key':['KO','K1','K4','K5'],\n",
    "                     'C':['CO','C1','C4','C5'],\n",
    "                     'D':['DO','D1','D4','D5']})                   "
   ]
  },
  {
   "cell_type": "code",
   "execution_count": 87,
   "metadata": {},
   "outputs": [
    {
     "output_type": "execute_result",
     "data": {
      "text/plain": [
       "  key   A   B\n",
       "0  KO  AO  BO\n",
       "1  K1  A1  B1\n",
       "2  K2  A2  B2\n",
       "3  K3  A3  B3"
      ],
      "text/html": "<div>\n<style scoped>\n    .dataframe tbody tr th:only-of-type {\n        vertical-align: middle;\n    }\n\n    .dataframe tbody tr th {\n        vertical-align: top;\n    }\n\n    .dataframe thead th {\n        text-align: right;\n    }\n</style>\n<table border=\"1\" class=\"dataframe\">\n  <thead>\n    <tr style=\"text-align: right;\">\n      <th></th>\n      <th>key</th>\n      <th>A</th>\n      <th>B</th>\n    </tr>\n  </thead>\n  <tbody>\n    <tr>\n      <th>0</th>\n      <td>KO</td>\n      <td>AO</td>\n      <td>BO</td>\n    </tr>\n    <tr>\n      <th>1</th>\n      <td>K1</td>\n      <td>A1</td>\n      <td>B1</td>\n    </tr>\n    <tr>\n      <th>2</th>\n      <td>K2</td>\n      <td>A2</td>\n      <td>B2</td>\n    </tr>\n    <tr>\n      <th>3</th>\n      <td>K3</td>\n      <td>A3</td>\n      <td>B3</td>\n    </tr>\n  </tbody>\n</table>\n</div>"
     },
     "metadata": {},
     "execution_count": 87
    }
   ],
   "source": [
    "left"
   ]
  },
  {
   "cell_type": "code",
   "execution_count": 88,
   "metadata": {},
   "outputs": [
    {
     "output_type": "execute_result",
     "data": {
      "text/plain": [
       "  key   C   D\n",
       "0  KO  CO  DO\n",
       "1  K1  C1  D1\n",
       "2  K4  C4  D4\n",
       "3  K5  C5  D5"
      ],
      "text/html": "<div>\n<style scoped>\n    .dataframe tbody tr th:only-of-type {\n        vertical-align: middle;\n    }\n\n    .dataframe tbody tr th {\n        vertical-align: top;\n    }\n\n    .dataframe thead th {\n        text-align: right;\n    }\n</style>\n<table border=\"1\" class=\"dataframe\">\n  <thead>\n    <tr style=\"text-align: right;\">\n      <th></th>\n      <th>key</th>\n      <th>C</th>\n      <th>D</th>\n    </tr>\n  </thead>\n  <tbody>\n    <tr>\n      <th>0</th>\n      <td>KO</td>\n      <td>CO</td>\n      <td>DO</td>\n    </tr>\n    <tr>\n      <th>1</th>\n      <td>K1</td>\n      <td>C1</td>\n      <td>D1</td>\n    </tr>\n    <tr>\n      <th>2</th>\n      <td>K4</td>\n      <td>C4</td>\n      <td>D4</td>\n    </tr>\n    <tr>\n      <th>3</th>\n      <td>K5</td>\n      <td>C5</td>\n      <td>D5</td>\n    </tr>\n  </tbody>\n</table>\n</div>"
     },
     "metadata": {},
     "execution_count": 88
    }
   ],
   "source": [
    "right"
   ]
  },
  {
   "cell_type": "code",
   "execution_count": 89,
   "metadata": {},
   "outputs": [
    {
     "output_type": "execute_result",
     "data": {
      "text/plain": [
       "  key   A   B   C   D\n",
       "0  KO  AO  BO  CO  DO\n",
       "1  K1  A1  B1  C1  D1"
      ],
      "text/html": "<div>\n<style scoped>\n    .dataframe tbody tr th:only-of-type {\n        vertical-align: middle;\n    }\n\n    .dataframe tbody tr th {\n        vertical-align: top;\n    }\n\n    .dataframe thead th {\n        text-align: right;\n    }\n</style>\n<table border=\"1\" class=\"dataframe\">\n  <thead>\n    <tr style=\"text-align: right;\">\n      <th></th>\n      <th>key</th>\n      <th>A</th>\n      <th>B</th>\n      <th>C</th>\n      <th>D</th>\n    </tr>\n  </thead>\n  <tbody>\n    <tr>\n      <th>0</th>\n      <td>KO</td>\n      <td>AO</td>\n      <td>BO</td>\n      <td>CO</td>\n      <td>DO</td>\n    </tr>\n    <tr>\n      <th>1</th>\n      <td>K1</td>\n      <td>A1</td>\n      <td>B1</td>\n      <td>C1</td>\n      <td>D1</td>\n    </tr>\n  </tbody>\n</table>\n</div>"
     },
     "metadata": {},
     "execution_count": 89
    }
   ],
   "source": [
    "pd.merge(left,right,how='inner')"
   ]
  },
  {
   "cell_type": "code",
   "execution_count": 90,
   "metadata": {},
   "outputs": [
    {
     "output_type": "execute_result",
     "data": {
      "text/plain": [
       "  key   A   B    C    D\n",
       "0  KO  AO  BO   CO   DO\n",
       "1  K1  A1  B1   C1   D1\n",
       "2  K2  A2  B2  NaN  NaN\n",
       "3  K3  A3  B3  NaN  NaN"
      ],
      "text/html": "<div>\n<style scoped>\n    .dataframe tbody tr th:only-of-type {\n        vertical-align: middle;\n    }\n\n    .dataframe tbody tr th {\n        vertical-align: top;\n    }\n\n    .dataframe thead th {\n        text-align: right;\n    }\n</style>\n<table border=\"1\" class=\"dataframe\">\n  <thead>\n    <tr style=\"text-align: right;\">\n      <th></th>\n      <th>key</th>\n      <th>A</th>\n      <th>B</th>\n      <th>C</th>\n      <th>D</th>\n    </tr>\n  </thead>\n  <tbody>\n    <tr>\n      <th>0</th>\n      <td>KO</td>\n      <td>AO</td>\n      <td>BO</td>\n      <td>CO</td>\n      <td>DO</td>\n    </tr>\n    <tr>\n      <th>1</th>\n      <td>K1</td>\n      <td>A1</td>\n      <td>B1</td>\n      <td>C1</td>\n      <td>D1</td>\n    </tr>\n    <tr>\n      <th>2</th>\n      <td>K2</td>\n      <td>A2</td>\n      <td>B2</td>\n      <td>NaN</td>\n      <td>NaN</td>\n    </tr>\n    <tr>\n      <th>3</th>\n      <td>K3</td>\n      <td>A3</td>\n      <td>B3</td>\n      <td>NaN</td>\n      <td>NaN</td>\n    </tr>\n  </tbody>\n</table>\n</div>"
     },
     "metadata": {},
     "execution_count": 90
    }
   ],
   "source": [
    "pd.merge(left,right,how='left')"
   ]
  },
  {
   "cell_type": "code",
   "execution_count": 91,
   "metadata": {},
   "outputs": [
    {
     "output_type": "execute_result",
     "data": {
      "text/plain": [
       "  key    A    B   C   D\n",
       "0  KO   AO   BO  CO  DO\n",
       "1  K1   A1   B1  C1  D1\n",
       "2  K4  NaN  NaN  C4  D4\n",
       "3  K5  NaN  NaN  C5  D5"
      ],
      "text/html": "<div>\n<style scoped>\n    .dataframe tbody tr th:only-of-type {\n        vertical-align: middle;\n    }\n\n    .dataframe tbody tr th {\n        vertical-align: top;\n    }\n\n    .dataframe thead th {\n        text-align: right;\n    }\n</style>\n<table border=\"1\" class=\"dataframe\">\n  <thead>\n    <tr style=\"text-align: right;\">\n      <th></th>\n      <th>key</th>\n      <th>A</th>\n      <th>B</th>\n      <th>C</th>\n      <th>D</th>\n    </tr>\n  </thead>\n  <tbody>\n    <tr>\n      <th>0</th>\n      <td>KO</td>\n      <td>AO</td>\n      <td>BO</td>\n      <td>CO</td>\n      <td>DO</td>\n    </tr>\n    <tr>\n      <th>1</th>\n      <td>K1</td>\n      <td>A1</td>\n      <td>B1</td>\n      <td>C1</td>\n      <td>D1</td>\n    </tr>\n    <tr>\n      <th>2</th>\n      <td>K4</td>\n      <td>NaN</td>\n      <td>NaN</td>\n      <td>C4</td>\n      <td>D4</td>\n    </tr>\n    <tr>\n      <th>3</th>\n      <td>K5</td>\n      <td>NaN</td>\n      <td>NaN</td>\n      <td>C5</td>\n      <td>D5</td>\n    </tr>\n  </tbody>\n</table>\n</div>"
     },
     "metadata": {},
     "execution_count": 91
    }
   ],
   "source": [
    "pd.merge(left,right,how='right')"
   ]
  },
  {
   "cell_type": "code",
   "execution_count": 92,
   "metadata": {},
   "outputs": [
    {
     "output_type": "execute_result",
     "data": {
      "text/plain": [
       "  key    A    B    C    D\n",
       "0  KO   AO   BO   CO   DO\n",
       "1  K1   A1   B1   C1   D1\n",
       "2  K2   A2   B2  NaN  NaN\n",
       "3  K3   A3   B3  NaN  NaN\n",
       "4  K4  NaN  NaN   C4   D4\n",
       "5  K5  NaN  NaN   C5   D5"
      ],
      "text/html": "<div>\n<style scoped>\n    .dataframe tbody tr th:only-of-type {\n        vertical-align: middle;\n    }\n\n    .dataframe tbody tr th {\n        vertical-align: top;\n    }\n\n    .dataframe thead th {\n        text-align: right;\n    }\n</style>\n<table border=\"1\" class=\"dataframe\">\n  <thead>\n    <tr style=\"text-align: right;\">\n      <th></th>\n      <th>key</th>\n      <th>A</th>\n      <th>B</th>\n      <th>C</th>\n      <th>D</th>\n    </tr>\n  </thead>\n  <tbody>\n    <tr>\n      <th>0</th>\n      <td>KO</td>\n      <td>AO</td>\n      <td>BO</td>\n      <td>CO</td>\n      <td>DO</td>\n    </tr>\n    <tr>\n      <th>1</th>\n      <td>K1</td>\n      <td>A1</td>\n      <td>B1</td>\n      <td>C1</td>\n      <td>D1</td>\n    </tr>\n    <tr>\n      <th>2</th>\n      <td>K2</td>\n      <td>A2</td>\n      <td>B2</td>\n      <td>NaN</td>\n      <td>NaN</td>\n    </tr>\n    <tr>\n      <th>3</th>\n      <td>K3</td>\n      <td>A3</td>\n      <td>B3</td>\n      <td>NaN</td>\n      <td>NaN</td>\n    </tr>\n    <tr>\n      <th>4</th>\n      <td>K4</td>\n      <td>NaN</td>\n      <td>NaN</td>\n      <td>C4</td>\n      <td>D4</td>\n    </tr>\n    <tr>\n      <th>5</th>\n      <td>K5</td>\n      <td>NaN</td>\n      <td>NaN</td>\n      <td>C5</td>\n      <td>D5</td>\n    </tr>\n  </tbody>\n</table>\n</div>"
     },
     "metadata": {},
     "execution_count": 92
    }
   ],
   "source": [
    "pd.merge(left,right,how='outer')"
   ]
  },
  {
   "cell_type": "code",
   "execution_count": 93,
   "metadata": {},
   "outputs": [],
   "source": [
    "left=pd.DataFrame({'key':['KO','K1','K2','K3'],\n",
    "                   'A':['AO','A1','A2','A3'],\n",
    "                   'B':['BO','B1','B2','B3']})\n",
    "\n",
    "right=pd.DataFrame({'key':['KO','K1','K4','K5'],\n",
    "                     'A':['A1O','A11','A12','A13'],\n",
    "                     'D':['DO','D1','D4','D5']})  "
   ]
  },
  {
   "cell_type": "code",
   "execution_count": 94,
   "metadata": {},
   "outputs": [
    {
     "output_type": "execute_result",
     "data": {
      "text/plain": [
       "  key   A   B\n",
       "0  KO  AO  BO\n",
       "1  K1  A1  B1\n",
       "2  K2  A2  B2\n",
       "3  K3  A3  B3"
      ],
      "text/html": "<div>\n<style scoped>\n    .dataframe tbody tr th:only-of-type {\n        vertical-align: middle;\n    }\n\n    .dataframe tbody tr th {\n        vertical-align: top;\n    }\n\n    .dataframe thead th {\n        text-align: right;\n    }\n</style>\n<table border=\"1\" class=\"dataframe\">\n  <thead>\n    <tr style=\"text-align: right;\">\n      <th></th>\n      <th>key</th>\n      <th>A</th>\n      <th>B</th>\n    </tr>\n  </thead>\n  <tbody>\n    <tr>\n      <th>0</th>\n      <td>KO</td>\n      <td>AO</td>\n      <td>BO</td>\n    </tr>\n    <tr>\n      <th>1</th>\n      <td>K1</td>\n      <td>A1</td>\n      <td>B1</td>\n    </tr>\n    <tr>\n      <th>2</th>\n      <td>K2</td>\n      <td>A2</td>\n      <td>B2</td>\n    </tr>\n    <tr>\n      <th>3</th>\n      <td>K3</td>\n      <td>A3</td>\n      <td>B3</td>\n    </tr>\n  </tbody>\n</table>\n</div>"
     },
     "metadata": {},
     "execution_count": 94
    }
   ],
   "source": [
    "left"
   ]
  },
  {
   "cell_type": "code",
   "execution_count": 95,
   "metadata": {},
   "outputs": [
    {
     "output_type": "execute_result",
     "data": {
      "text/plain": [
       "  key    A   D\n",
       "0  KO  A1O  DO\n",
       "1  K1  A11  D1\n",
       "2  K4  A12  D4\n",
       "3  K5  A13  D5"
      ],
      "text/html": "<div>\n<style scoped>\n    .dataframe tbody tr th:only-of-type {\n        vertical-align: middle;\n    }\n\n    .dataframe tbody tr th {\n        vertical-align: top;\n    }\n\n    .dataframe thead th {\n        text-align: right;\n    }\n</style>\n<table border=\"1\" class=\"dataframe\">\n  <thead>\n    <tr style=\"text-align: right;\">\n      <th></th>\n      <th>key</th>\n      <th>A</th>\n      <th>D</th>\n    </tr>\n  </thead>\n  <tbody>\n    <tr>\n      <th>0</th>\n      <td>KO</td>\n      <td>A1O</td>\n      <td>DO</td>\n    </tr>\n    <tr>\n      <th>1</th>\n      <td>K1</td>\n      <td>A11</td>\n      <td>D1</td>\n    </tr>\n    <tr>\n      <th>2</th>\n      <td>K4</td>\n      <td>A12</td>\n      <td>D4</td>\n    </tr>\n    <tr>\n      <th>3</th>\n      <td>K5</td>\n      <td>A13</td>\n      <td>D5</td>\n    </tr>\n  </tbody>\n</table>\n</div>"
     },
     "metadata": {},
     "execution_count": 95
    }
   ],
   "source": [
    "right"
   ]
  },
  {
   "cell_type": "code",
   "execution_count": 96,
   "metadata": {},
   "outputs": [
    {
     "output_type": "execute_result",
     "data": {
      "text/plain": [
       "  key A_x   B  A_y   D\n",
       "0  KO  AO  BO  A1O  DO\n",
       "1  K1  A1  B1  A11  D1"
      ],
      "text/html": "<div>\n<style scoped>\n    .dataframe tbody tr th:only-of-type {\n        vertical-align: middle;\n    }\n\n    .dataframe tbody tr th {\n        vertical-align: top;\n    }\n\n    .dataframe thead th {\n        text-align: right;\n    }\n</style>\n<table border=\"1\" class=\"dataframe\">\n  <thead>\n    <tr style=\"text-align: right;\">\n      <th></th>\n      <th>key</th>\n      <th>A_x</th>\n      <th>B</th>\n      <th>A_y</th>\n      <th>D</th>\n    </tr>\n  </thead>\n  <tbody>\n    <tr>\n      <th>0</th>\n      <td>KO</td>\n      <td>AO</td>\n      <td>BO</td>\n      <td>A1O</td>\n      <td>DO</td>\n    </tr>\n    <tr>\n      <th>1</th>\n      <td>K1</td>\n      <td>A1</td>\n      <td>B1</td>\n      <td>A11</td>\n      <td>D1</td>\n    </tr>\n  </tbody>\n</table>\n</div>"
     },
     "metadata": {},
     "execution_count": 96
    }
   ],
   "source": [
    "pd.merge(left,right,on='key')"
   ]
  },
  {
   "cell_type": "code",
   "execution_count": 97,
   "metadata": {},
   "outputs": [
    {
     "output_type": "execute_result",
     "data": {
      "text/plain": [
       "  key A_left   B A_right   D\n",
       "0  KO     AO  BO     A1O  DO\n",
       "1  K1     A1  B1     A11  D1"
      ],
      "text/html": "<div>\n<style scoped>\n    .dataframe tbody tr th:only-of-type {\n        vertical-align: middle;\n    }\n\n    .dataframe tbody tr th {\n        vertical-align: top;\n    }\n\n    .dataframe thead th {\n        text-align: right;\n    }\n</style>\n<table border=\"1\" class=\"dataframe\">\n  <thead>\n    <tr style=\"text-align: right;\">\n      <th></th>\n      <th>key</th>\n      <th>A_left</th>\n      <th>B</th>\n      <th>A_right</th>\n      <th>D</th>\n    </tr>\n  </thead>\n  <tbody>\n    <tr>\n      <th>0</th>\n      <td>KO</td>\n      <td>AO</td>\n      <td>BO</td>\n      <td>A1O</td>\n      <td>DO</td>\n    </tr>\n    <tr>\n      <th>1</th>\n      <td>K1</td>\n      <td>A1</td>\n      <td>B1</td>\n      <td>A11</td>\n      <td>D1</td>\n    </tr>\n  </tbody>\n</table>\n</div>"
     },
     "metadata": {},
     "execution_count": 97
    }
   ],
   "source": [
    "pd.merge(left,right,on='key',suffixes=('_left','_right'))"
   ]
  },
  {
   "cell_type": "code",
   "execution_count": null,
   "metadata": {},
   "outputs": [],
   "source": []
  }
 ]
}