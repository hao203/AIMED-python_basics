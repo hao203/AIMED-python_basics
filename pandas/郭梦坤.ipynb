{
 "metadata": {
  "language_info": {
   "codemirror_mode": {
    "name": "ipython",
    "version": 3
   },
   "file_extension": ".py",
   "mimetype": "text/x-python",
   "name": "python",
   "nbconvert_exporter": "python",
   "pygments_lexer": "ipython3",
   "version": "3.8.6-final"
  },
  "orig_nbformat": 2,
  "kernelspec": {
   "name": "python3",
   "display_name": "Python 3.8.6 64-bit",
   "metadata": {
    "interpreter": {
     "hash": "ca0160dac783e7a65f5ae062ece0e5efa5103e3ed9bc2d9725dee8321d5e9471"
    }
   }
  }
 },
 "nbformat": 4,
 "nbformat_minor": 2,
 "cells": [
  {
   "cell_type": "code",
   "execution_count": 64,
   "metadata": {},
   "outputs": [],
   "source": [
    "import pandas as pd"
   ]
  },
  {
   "cell_type": "code",
   "execution_count": 65,
   "metadata": {},
   "outputs": [],
   "source": [
    "df_ratings=pd.read_csv(\"../../ant-learn-pandas/datas/movielens-1m/ratings.dat\", \n",
    "sep=\"::\",\n",
    "engine='python', \n",
    "names=\"UserID::MovieID::Rating::Timestamp\".split(\"::\"))\n",
    "df_users = pd.read_csv(\"../../ant-learn-pandas/datas/movielens-1m/users.dat\", \n",
    "sep=\"::\",\n",
    "engine='python', \n",
    "names=\"UserID::Gender::Age::Occupation::Zip-code\".split(\"::\"))"
   ]
  },
  {
   "cell_type": "code",
   "execution_count": 66,
   "metadata": {},
   "outputs": [
    {
     "output_type": "execute_result",
     "data": {
      "text/plain": [
       "   UserID  MovieID  Rating  Timestamp Gender  Age  Occupation Zip-code\n",
       "0       1     1193       5  978300760      F    1          10    48067\n",
       "1       1      661       3  978302109      F    1          10    48067\n",
       "2       1      914       3  978301968      F    1          10    48067\n",
       "3       1     3408       4  978300275      F    1          10    48067\n",
       "4       1     2355       5  978824291      F    1          10    48067"
      ],
      "text/html": "<div>\n<style scoped>\n    .dataframe tbody tr th:only-of-type {\n        vertical-align: middle;\n    }\n\n    .dataframe tbody tr th {\n        vertical-align: top;\n    }\n\n    .dataframe thead th {\n        text-align: right;\n    }\n</style>\n<table border=\"1\" class=\"dataframe\">\n  <thead>\n    <tr style=\"text-align: right;\">\n      <th></th>\n      <th>UserID</th>\n      <th>MovieID</th>\n      <th>Rating</th>\n      <th>Timestamp</th>\n      <th>Gender</th>\n      <th>Age</th>\n      <th>Occupation</th>\n      <th>Zip-code</th>\n    </tr>\n  </thead>\n  <tbody>\n    <tr>\n      <th>0</th>\n      <td>1</td>\n      <td>1193</td>\n      <td>5</td>\n      <td>978300760</td>\n      <td>F</td>\n      <td>1</td>\n      <td>10</td>\n      <td>48067</td>\n    </tr>\n    <tr>\n      <th>1</th>\n      <td>1</td>\n      <td>661</td>\n      <td>3</td>\n      <td>978302109</td>\n      <td>F</td>\n      <td>1</td>\n      <td>10</td>\n      <td>48067</td>\n    </tr>\n    <tr>\n      <th>2</th>\n      <td>1</td>\n      <td>914</td>\n      <td>3</td>\n      <td>978301968</td>\n      <td>F</td>\n      <td>1</td>\n      <td>10</td>\n      <td>48067</td>\n    </tr>\n    <tr>\n      <th>3</th>\n      <td>1</td>\n      <td>3408</td>\n      <td>4</td>\n      <td>978300275</td>\n      <td>F</td>\n      <td>1</td>\n      <td>10</td>\n      <td>48067</td>\n    </tr>\n    <tr>\n      <th>4</th>\n      <td>1</td>\n      <td>2355</td>\n      <td>5</td>\n      <td>978824291</td>\n      <td>F</td>\n      <td>1</td>\n      <td>10</td>\n      <td>48067</td>\n    </tr>\n  </tbody>\n</table>\n</div>"
     },
     "metadata": {},
     "execution_count": 66
    }
   ],
   "source": [
    "df_ratings_users = pd.merge(df_ratings, df_users, left_on=\"UserID\", right_on=\"UserID\", how=\"inner\")\n",
    "df_ratings_users.head()"
   ]
  },
  {
   "cell_type": "code",
   "execution_count": 67,
   "metadata": {},
   "outputs": [
    {
     "output_type": "execute_result",
     "data": {
      "text/plain": [
       "(   sno aihao\n",
       " 0   11     a\n",
       " 1   11     b\n",
       " 2   13     c\n",
       " 3   14     d,\n",
       "    sno chengji\n",
       " 0   11      21\n",
       " 1   12      99\n",
       " 2   13      19\n",
       " 3   14       1\n",
       " 4   14       0)"
      ]
     },
     "metadata": {},
     "execution_count": 67
    }
   ],
   "source": [
    "left = pd.DataFrame({'sno': [11, 11, 13, 14],'aihao': ['a', 'b', 'c', 'd']})\n",
    "right = pd.DataFrame({'sno': [11, 12, 13, 14, 14],'chengji': ['21', '99','19', '1', '0']})\n",
    "left,right"
   ]
  },
  {
   "cell_type": "code",
   "execution_count": 68,
   "metadata": {},
   "outputs": [
    {
     "output_type": "execute_result",
     "data": {
      "text/plain": [
       "   sno aihao chengji\n",
       "0   11     a      21\n",
       "1   11     b      21\n",
       "2   13     c      19\n",
       "3   14     d       1\n",
       "4   14     d       0"
      ],
      "text/html": "<div>\n<style scoped>\n    .dataframe tbody tr th:only-of-type {\n        vertical-align: middle;\n    }\n\n    .dataframe tbody tr th {\n        vertical-align: top;\n    }\n\n    .dataframe thead th {\n        text-align: right;\n    }\n</style>\n<table border=\"1\" class=\"dataframe\">\n  <thead>\n    <tr style=\"text-align: right;\">\n      <th></th>\n      <th>sno</th>\n      <th>aihao</th>\n      <th>chengji</th>\n    </tr>\n  </thead>\n  <tbody>\n    <tr>\n      <th>0</th>\n      <td>11</td>\n      <td>a</td>\n      <td>21</td>\n    </tr>\n    <tr>\n      <th>1</th>\n      <td>11</td>\n      <td>b</td>\n      <td>21</td>\n    </tr>\n    <tr>\n      <th>2</th>\n      <td>13</td>\n      <td>c</td>\n      <td>19</td>\n    </tr>\n    <tr>\n      <th>3</th>\n      <td>14</td>\n      <td>d</td>\n      <td>1</td>\n    </tr>\n    <tr>\n      <th>4</th>\n      <td>14</td>\n      <td>d</td>\n      <td>0</td>\n    </tr>\n  </tbody>\n</table>\n</div>"
     },
     "metadata": {},
     "execution_count": 68
    }
   ],
   "source": [
    "pd.merge(left, right, on='sno')"
   ]
  },
  {
   "cell_type": "code",
   "execution_count": 69,
   "metadata": {},
   "outputs": [
    {
     "output_type": "execute_result",
     "data": {
      "text/plain": [
       "(  key   A   B\n",
       " 0  K0  00  10\n",
       " 1  K1  01  11\n",
       " 2  K2  02  12\n",
       " 3  K3  03  13,\n",
       "   key   C   D\n",
       " 0  K0  30  40\n",
       " 1  K1  31  41\n",
       " 2  K4  34  44\n",
       " 3  K5  35  45,\n",
       "   key   A   D\n",
       " 0  K0  10  40\n",
       " 1  K1  10  41\n",
       " 2  K2  20  44\n",
       " 3  K5  50  45)"
      ]
     },
     "metadata": {},
     "execution_count": 69
    }
   ],
   "source": [
    "left = pd.DataFrame({'key': ['K0', 'K1', 'K2', 'K3'],\n",
    "                      'A': ['00', '01', '02', '03'],\n",
    "                      'B': ['10', '11', '12', '13']})\n",
    "right = pd.DataFrame({'key': ['K0', 'K1', 'K4', 'K5'],\n",
    "                      'C': ['30', '31', '34', '35'],\n",
    "                      'D': ['40', '41', '44', '45']})\n",
    "left1= pd.DataFrame({'key':['K0', 'K1', 'K2', 'K5'],\n",
    "                      'A': ['10', '10', '20', '50'],\n",
    "                      'D': ['40', '41', '44', '45']})\n",
    "left,right,left1"
   ]
  },
  {
   "cell_type": "code",
   "execution_count": 70,
   "metadata": {},
   "outputs": [
    {
     "output_type": "execute_result",
     "data": {
      "text/plain": [
       "  key   A   B   C   D\n",
       "0  K0  00  10  30  40\n",
       "1  K1  01  11  31  41"
      ],
      "text/html": "<div>\n<style scoped>\n    .dataframe tbody tr th:only-of-type {\n        vertical-align: middle;\n    }\n\n    .dataframe tbody tr th {\n        vertical-align: top;\n    }\n\n    .dataframe thead th {\n        text-align: right;\n    }\n</style>\n<table border=\"1\" class=\"dataframe\">\n  <thead>\n    <tr style=\"text-align: right;\">\n      <th></th>\n      <th>key</th>\n      <th>A</th>\n      <th>B</th>\n      <th>C</th>\n      <th>D</th>\n    </tr>\n  </thead>\n  <tbody>\n    <tr>\n      <th>0</th>\n      <td>K0</td>\n      <td>00</td>\n      <td>10</td>\n      <td>30</td>\n      <td>40</td>\n    </tr>\n    <tr>\n      <th>1</th>\n      <td>K1</td>\n      <td>01</td>\n      <td>11</td>\n      <td>31</td>\n      <td>41</td>\n    </tr>\n  </tbody>\n</table>\n</div>"
     },
     "metadata": {},
     "execution_count": 70
    }
   ],
   "source": [
    "pd.merge(left, right)"
   ]
  },
  {
   "cell_type": "code",
   "execution_count": 71,
   "metadata": {},
   "outputs": [
    {
     "output_type": "execute_result",
     "data": {
      "text/plain": [
       "  key    A    B    C    D\n",
       "0  K0   00   10   30   40\n",
       "1  K1   01   11   31   41\n",
       "2  K2   02   12  NaN  NaN\n",
       "3  K3   03   13  NaN  NaN\n",
       "4  K4  NaN  NaN   34   44\n",
       "5  K5  NaN  NaN   35   45"
      ],
      "text/html": "<div>\n<style scoped>\n    .dataframe tbody tr th:only-of-type {\n        vertical-align: middle;\n    }\n\n    .dataframe tbody tr th {\n        vertical-align: top;\n    }\n\n    .dataframe thead th {\n        text-align: right;\n    }\n</style>\n<table border=\"1\" class=\"dataframe\">\n  <thead>\n    <tr style=\"text-align: right;\">\n      <th></th>\n      <th>key</th>\n      <th>A</th>\n      <th>B</th>\n      <th>C</th>\n      <th>D</th>\n    </tr>\n  </thead>\n  <tbody>\n    <tr>\n      <th>0</th>\n      <td>K0</td>\n      <td>00</td>\n      <td>10</td>\n      <td>30</td>\n      <td>40</td>\n    </tr>\n    <tr>\n      <th>1</th>\n      <td>K1</td>\n      <td>01</td>\n      <td>11</td>\n      <td>31</td>\n      <td>41</td>\n    </tr>\n    <tr>\n      <th>2</th>\n      <td>K2</td>\n      <td>02</td>\n      <td>12</td>\n      <td>NaN</td>\n      <td>NaN</td>\n    </tr>\n    <tr>\n      <th>3</th>\n      <td>K3</td>\n      <td>03</td>\n      <td>13</td>\n      <td>NaN</td>\n      <td>NaN</td>\n    </tr>\n    <tr>\n      <th>4</th>\n      <td>K4</td>\n      <td>NaN</td>\n      <td>NaN</td>\n      <td>34</td>\n      <td>44</td>\n    </tr>\n    <tr>\n      <th>5</th>\n      <td>K5</td>\n      <td>NaN</td>\n      <td>NaN</td>\n      <td>35</td>\n      <td>45</td>\n    </tr>\n  </tbody>\n</table>\n</div>"
     },
     "metadata": {},
     "execution_count": 71
    }
   ],
   "source": [
    "pd.merge(left, right, how='outer')"
   ]
  },
  {
   "cell_type": "code",
   "execution_count": 72,
   "metadata": {},
   "outputs": [
    {
     "output_type": "execute_result",
     "data": {
      "text/plain": [
       "  key A_left   B A_left1   D\n",
       "0  K0     00  10      10  40\n",
       "1  K1     01  11      10  41\n",
       "2  K2     02  12      20  44"
      ],
      "text/html": "<div>\n<style scoped>\n    .dataframe tbody tr th:only-of-type {\n        vertical-align: middle;\n    }\n\n    .dataframe tbody tr th {\n        vertical-align: top;\n    }\n\n    .dataframe thead th {\n        text-align: right;\n    }\n</style>\n<table border=\"1\" class=\"dataframe\">\n  <thead>\n    <tr style=\"text-align: right;\">\n      <th></th>\n      <th>key</th>\n      <th>A_left</th>\n      <th>B</th>\n      <th>A_left1</th>\n      <th>D</th>\n    </tr>\n  </thead>\n  <tbody>\n    <tr>\n      <th>0</th>\n      <td>K0</td>\n      <td>00</td>\n      <td>10</td>\n      <td>10</td>\n      <td>40</td>\n    </tr>\n    <tr>\n      <th>1</th>\n      <td>K1</td>\n      <td>01</td>\n      <td>11</td>\n      <td>10</td>\n      <td>41</td>\n    </tr>\n    <tr>\n      <th>2</th>\n      <td>K2</td>\n      <td>02</td>\n      <td>12</td>\n      <td>20</td>\n      <td>44</td>\n    </tr>\n  </tbody>\n</table>\n</div>"
     },
     "metadata": {},
     "execution_count": 72
    }
   ],
   "source": [
    "pd.merge(left, left1, on='key', suffixes=('_left', '_left1'))"
   ]
  },
  {
   "cell_type": "code",
   "execution_count": null,
   "metadata": {},
   "outputs": [],
   "source": []
  }
 ]
}