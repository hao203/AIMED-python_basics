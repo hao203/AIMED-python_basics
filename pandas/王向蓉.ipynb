{
 "cells": [
  {
   "cell_type": "code",
   "execution_count": 38,
   "metadata": {},
   "outputs": [],
   "source": [
    "import pandas as pd\r\n",
    "df_ratings=pd.read_csv(\"./ratings.dat\",\r\n",
    "sep=\"::\",\r\n",
    "engine='python',\r\n",
    "names=\"UserID::MovieID::Rating::Timestamp\".split(\"::\"))\r\n",
    "df_users = pd.read_csv(\"./ratings.dat\",\r\n",
    "sep=\"::\",\r\n",
    "engine='python',\r\n",
    "names=\"UserID::Gender::Age::Occupation::Zip-code\".split(\"::\"))\r\n",
    "\r\n",
    "\r\n",
    " "
   ]
  },
  {
   "cell_type": "code",
   "execution_count": null,
   "metadata": {},
   "outputs": [],
   "source": [
    "df_ratings_users = pd.merge(df_ratings, df_users, left_on=\"UserID\", right_on=\"UserID\", how=\"inner\")\r\n",
    "df_ratings_users.head()"
   ]
  },
  {
   "cell_type": "code",
   "execution_count": 12,
   "metadata": {},
   "outputs": [
    {
     "data": {
      "text/plain": "(   sno aihao\n 0   11     a\n 1   11     b\n 2   13     c\n 3   14     d,\n    sno chengji\n 0   11      21\n 1   12      99\n 2   13      19\n 3   14       1\n 4   14       0)"
     },
     "execution_count": 12,
     "metadata": {},
     "output_type": "execute_result"
    }
   ],
   "source": [
    "left = pd.DataFrame({'sno':[11,11,13,14],'aihao': ['a','b','c','d']})\r\n",
    "right = pd.DataFrame({'sno':[11,12,13,14,14],'chengji': ['21','99','19','1','0']})\r\n",
    "left,right"
   ]
  },
  {
   "cell_type": "code",
   "execution_count": 13,
   "metadata": {},
   "outputs": [
    {
     "data": {
      "text/html": "<div>\n<style scoped>\n    .dataframe tbody tr th:only-of-type {\n        vertical-align: middle;\n    }\n\n    .dataframe tbody tr th {\n        vertical-align: top;\n    }\n\n    .dataframe thead th {\n        text-align: right;\n    }\n</style>\n<table border=\"1\" class=\"dataframe\">\n  <thead>\n    <tr style=\"text-align: right;\">\n      <th></th>\n      <th>sno</th>\n      <th>aihao</th>\n      <th>chengji</th>\n    </tr>\n  </thead>\n  <tbody>\n    <tr>\n      <th>0</th>\n      <td>11</td>\n      <td>a</td>\n      <td>21</td>\n    </tr>\n    <tr>\n      <th>1</th>\n      <td>11</td>\n      <td>b</td>\n      <td>21</td>\n    </tr>\n    <tr>\n      <th>2</th>\n      <td>13</td>\n      <td>c</td>\n      <td>19</td>\n    </tr>\n    <tr>\n      <th>3</th>\n      <td>14</td>\n      <td>d</td>\n      <td>1</td>\n    </tr>\n    <tr>\n      <th>4</th>\n      <td>14</td>\n      <td>d</td>\n      <td>0</td>\n    </tr>\n  </tbody>\n</table>\n</div>",
      "text/plain": "   sno aihao chengji\n0   11     a      21\n1   11     b      21\n2   13     c      19\n3   14     d       1\n4   14     d       0"
     },
     "execution_count": 13,
     "metadata": {},
     "output_type": "execute_result"
    }
   ],
   "source": [
    "pd.merge(left, right, on='sno')"
   ]
  },
  {
   "cell_type": "code",
   "execution_count": 14,
   "metadata": {},
   "outputs": [
    {
     "data": {
      "text/plain": "(  key   A   B\n 0  K0  00  10\n 1  K1  01  11\n 2  K2  02  12\n 3  K3  03  13,\n   key   C   D\n 0  K0  30  40\n 1  K1  31  41\n 2  K4  34  44\n 3  K5  35  45,\n   key   A   D\n 0  K0  10  40\n 1  K1  10  41\n 2  K2  20  44\n 3  K5  50  45)"
     },
     "execution_count": 14,
     "metadata": {},
     "output_type": "execute_result"
    }
   ],
   "source": [
    "left = pd.DataFrame({'key': ['K0', 'K1', 'K2', 'K3'],\r\n",
    "                      'A': ['00', '01', '02', '03'],\r\n",
    "                      'B': ['10', '11', '12', '13']})\r\n",
    "right = pd.DataFrame({'key': ['K0', 'K1', 'K4', 'K5'],\r\n",
    "                      'C': ['30', '31', '34', '35'],\r\n",
    "                      'D': ['40', '41', '44', '45']})\r\n",
    "left1= pd.DataFrame({'key':['K0', 'K1', 'K2', 'K5'],\r\n",
    "                      'A': ['10', '10', '20', '50'],\r\n",
    "                      'D': ['40', '41', '44', '45']})\r\n",
    "left,right,left1"
   ]
  },
  {
   "cell_type": "code",
   "execution_count": 15,
   "metadata": {},
   "outputs": [
    {
     "data": {
      "text/html": "<div>\n<style scoped>\n    .dataframe tbody tr th:only-of-type {\n        vertical-align: middle;\n    }\n\n    .dataframe tbody tr th {\n        vertical-align: top;\n    }\n\n    .dataframe thead th {\n        text-align: right;\n    }\n</style>\n<table border=\"1\" class=\"dataframe\">\n  <thead>\n    <tr style=\"text-align: right;\">\n      <th></th>\n      <th>key</th>\n      <th>A</th>\n      <th>B</th>\n      <th>C</th>\n      <th>D</th>\n    </tr>\n  </thead>\n  <tbody>\n    <tr>\n      <th>0</th>\n      <td>K0</td>\n      <td>00</td>\n      <td>10</td>\n      <td>30</td>\n      <td>40</td>\n    </tr>\n    <tr>\n      <th>1</th>\n      <td>K1</td>\n      <td>01</td>\n      <td>11</td>\n      <td>31</td>\n      <td>41</td>\n    </tr>\n  </tbody>\n</table>\n</div>",
      "text/plain": "  key   A   B   C   D\n0  K0  00  10  30  40\n1  K1  01  11  31  41"
     },
     "execution_count": 15,
     "metadata": {},
     "output_type": "execute_result"
    }
   ],
   "source": [
    "pd.merge(left, right)"
   ]
  },
  {
   "cell_type": "code",
   "execution_count": 16,
   "metadata": {},
   "outputs": [
    {
     "data": {
      "text/html": "<div>\n<style scoped>\n    .dataframe tbody tr th:only-of-type {\n        vertical-align: middle;\n    }\n\n    .dataframe tbody tr th {\n        vertical-align: top;\n    }\n\n    .dataframe thead th {\n        text-align: right;\n    }\n</style>\n<table border=\"1\" class=\"dataframe\">\n  <thead>\n    <tr style=\"text-align: right;\">\n      <th></th>\n      <th>key</th>\n      <th>A</th>\n      <th>B</th>\n      <th>C</th>\n      <th>D</th>\n    </tr>\n  </thead>\n  <tbody>\n    <tr>\n      <th>0</th>\n      <td>K0</td>\n      <td>00</td>\n      <td>10</td>\n      <td>30</td>\n      <td>40</td>\n    </tr>\n    <tr>\n      <th>1</th>\n      <td>K1</td>\n      <td>01</td>\n      <td>11</td>\n      <td>31</td>\n      <td>41</td>\n    </tr>\n    <tr>\n      <th>2</th>\n      <td>K2</td>\n      <td>02</td>\n      <td>12</td>\n      <td>NaN</td>\n      <td>NaN</td>\n    </tr>\n    <tr>\n      <th>3</th>\n      <td>K3</td>\n      <td>03</td>\n      <td>13</td>\n      <td>NaN</td>\n      <td>NaN</td>\n    </tr>\n    <tr>\n      <th>4</th>\n      <td>K4</td>\n      <td>NaN</td>\n      <td>NaN</td>\n      <td>34</td>\n      <td>44</td>\n    </tr>\n    <tr>\n      <th>5</th>\n      <td>K5</td>\n      <td>NaN</td>\n      <td>NaN</td>\n      <td>35</td>\n      <td>45</td>\n    </tr>\n  </tbody>\n</table>\n</div>",
      "text/plain": "  key    A    B    C    D\n0  K0   00   10   30   40\n1  K1   01   11   31   41\n2  K2   02   12  NaN  NaN\n3  K3   03   13  NaN  NaN\n4  K4  NaN  NaN   34   44\n5  K5  NaN  NaN   35   45"
     },
     "execution_count": 16,
     "metadata": {},
     "output_type": "execute_result"
    }
   ],
   "source": [
    "pd.merge(left, right, how='outer')"
   ]
  },
  {
   "cell_type": "code",
   "execution_count": 17,
   "metadata": {},
   "outputs": [
    {
     "data": {
      "text/html": "<div>\n<style scoped>\n    .dataframe tbody tr th:only-of-type {\n        vertical-align: middle;\n    }\n\n    .dataframe tbody tr th {\n        vertical-align: top;\n    }\n\n    .dataframe thead th {\n        text-align: right;\n    }\n</style>\n<table border=\"1\" class=\"dataframe\">\n  <thead>\n    <tr style=\"text-align: right;\">\n      <th></th>\n      <th>key</th>\n      <th>A_left</th>\n      <th>B</th>\n      <th>A_left1</th>\n      <th>D</th>\n    </tr>\n  </thead>\n  <tbody>\n    <tr>\n      <th>0</th>\n      <td>K0</td>\n      <td>00</td>\n      <td>10</td>\n      <td>10</td>\n      <td>40</td>\n    </tr>\n    <tr>\n      <th>1</th>\n      <td>K1</td>\n      <td>01</td>\n      <td>11</td>\n      <td>10</td>\n      <td>41</td>\n    </tr>\n    <tr>\n      <th>2</th>\n      <td>K2</td>\n      <td>02</td>\n      <td>12</td>\n      <td>20</td>\n      <td>44</td>\n    </tr>\n  </tbody>\n</table>\n</div>",
      "text/plain": "  key A_left   B A_left1   D\n0  K0     00  10      10  40\n1  K1     01  11      10  41\n2  K2     02  12      20  44"
     },
     "execution_count": 17,
     "metadata": {},
     "output_type": "execute_result"
    }
   ],
   "source": [
    "pd.merge(left, left1, on='key', suffixes=('_left', '_left1'))"
   ]
  },
  {
   "cell_type": "code",
   "execution_count": null,
   "metadata": {},
   "outputs": [],
   "source": []
  }
 ],
 "metadata": {
  "kernelspec": {
   "display_name": "Python 3",
   "name": "python3"
  },
  "language_info": {
   "codemirror_mode": {
    "name": "ipython",
    "version": 3
   },
   "file_extension": ".py",
   "mimetype": "text/x-python",
   "name": "python",
   "nbconvert_exporter": "python",
   "pygments_lexer": "ipython3",
   "version": "3.8.6"
  },
  "orig_nbformat": 2
 },
 "nbformat": 4,
 "nbformat_minor": 2
}