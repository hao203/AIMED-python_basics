{
 "cells": [
  {
   "cell_type": "code",
   "execution_count": 1,
   "metadata": {},
   "outputs": [
    {
     "name": "stdout",
     "output_type": "stream",
     "text": [
      "hello\n"
     ]
    }
   ],
   "source": [
    "print (\"hello\")"
   ]
  },
  {
   "cell_type": "code",
   "execution_count": 1,
   "metadata": {},
   "outputs": [
    {
     "name": "stdout",
     "output_type": "stream",
     "text": [
      "[[2 0 0]\n",
      " [3 4 3]\n",
      " [3 3 4]\n",
      " [4 4 4]\n",
      " [3 0 2]\n",
      " [1 2 2]\n",
      " [0 2 1]\n",
      " [4 3 4]]\n",
      "[[3 1]\n",
      " [1 2]]\n",
      "[[[2]\n",
      "  [0]\n",
      "  [0]]\n",
      "\n",
      " [[3]\n",
      "  [4]\n",
      "  [3]]\n",
      "\n",
      " [[3]\n",
      "  [3]\n",
      "  [4]]\n",
      "\n",
      " [[4]\n",
      "  [4]\n",
      "  [4]]\n",
      "\n",
      " [[3]\n",
      "  [0]\n",
      "  [2]]\n",
      "\n",
      " [[1]\n",
      "  [2]\n",
      "  [2]]\n",
      "\n",
      " [[0]\n",
      "  [2]\n",
      "  [1]]\n",
      "\n",
      " [[4]\n",
      "  [3]\n",
      "  [4]]]\n",
      "--------------------------------------------------\n",
      "[[[[2]]\n",
      "\n",
      "  [[0]]\n",
      "\n",
      "  [[0]]]\n",
      "\n",
      "\n",
      " [[[3]]\n",
      "\n",
      "  [[4]]\n",
      "\n",
      "  [[3]]]\n",
      "\n",
      "\n",
      " [[[3]]\n",
      "\n",
      "  [[3]]\n",
      "\n",
      "  [[4]]]\n",
      "\n",
      "\n",
      " [[[4]]\n",
      "\n",
      "  [[4]]\n",
      "\n",
      "  [[4]]]\n",
      "\n",
      "\n",
      " [[[3]]\n",
      "\n",
      "  [[0]]\n",
      "\n",
      "  [[2]]]\n",
      "\n",
      "\n",
      " [[[1]]\n",
      "\n",
      "  [[2]]\n",
      "\n",
      "  [[2]]]\n",
      "\n",
      "\n",
      " [[[0]]\n",
      "\n",
      "  [[2]]\n",
      "\n",
      "  [[1]]]\n",
      "\n",
      "\n",
      " [[[4]]\n",
      "\n",
      "  [[3]]\n",
      "\n",
      "  [[4]]]]\n",
      "(array([0, 1, 1, 2, 2, 4, 4, 5, 5, 5, 5, 6, 6, 6, 7], dtype=int64), array([0, 0, 2, 0, 1, 0, 2, 0, 0, 1, 2, 1, 2, 2, 1], dtype=int64), array([1, 0, 0, 0, 0, 0, 1, 0, 1, 1, 1, 1, 0, 1, 0], dtype=int64), array([1, 0, 0, 0, 0, 0, 1, 1, 0, 1, 1, 1, 1, 0, 0], dtype=int64))\n",
      "result--------------------------------------------------\n",
      "(array([4, 5, 6], dtype=int64),)\n",
      "--------------------------------------------------\n",
      "(array([0, 1, 2, 4, 4, 5, 5, 5, 6, 6, 6, 7], dtype=int64), array([1, 0, 0, 0, 1, 0, 1, 1, 0, 1, 1, 0], dtype=int64), array([1, 0, 0, 0, 1, 1, 0, 1, 1, 0, 1, 0], dtype=int64))\n",
      "--------------------------------------------------\n",
      "(array([5, 6], dtype=int64), array([1, 1], dtype=int64))\n"
     ]
    }
   ],
   "source": [
    "import numpy as np\n",
    "A = np.random.randint(0,5,(8,3))\n",
    "B = np.random.randint(0,5,(2,2))\n",
    "\n",
    "C = (A[:,:,np.newaxis, np.newaxis] == B)\n",
    "\n",
    "print (A)\n",
    "print (B)\n",
    "print (A[:,:,np.newaxis])\n",
    "print ('-'*50)\n",
    "print (A[:,:,np.newaxis, np.newaxis])\n",
    "print (np.where(C))\n",
    "print (\"result\"+'-'*50)\n",
    "print (np.where(C.any((3,1)).all(1)))\n",
    "print ('-'*50)\n",
    "print (np.where(C.any((1))))\n",
    "print ('-'*50)\n",
    "print (np.where(C.any((1)).all(1)))"
   ]
  },
  {
   "cell_type": "code",
   "execution_count": 1,
   "metadata": {},
   "outputs": [
    {
     "name": "stdout",
     "output_type": "stream",
     "text": [
      "False\n",
      "--------------------------------------------------\n",
      "[[ True False False False False False False False False False]\n",
      " [False False False  True False False False False False False]\n",
      " [False False False False False False False False  True False]\n",
      " [False False False False False False False False False False]]\n",
      "c location--------------------------------------------------\n",
      "(array([0, 1, 2], dtype=int64), array([0, 3, 8], dtype=int64))\n",
      "Axis 1 combine--------------------------------------------------\n",
      "(array([0, 1, 2], dtype=int64),)\n",
      "--------------------------------------------------\n",
      "(array([0, 3, 8], dtype=int64),)\n",
      "--------------------------------------------------\n",
      "(array([0], dtype=int64),)\n"
     ]
    },
    {
     "name": "stderr",
     "output_type": "stream",
     "text": [
      "<ipython-input-1-866d05e116cc>:5: DeprecationWarning: elementwise comparison failed; this will raise an error in the future.\n",
      "  print (a == b)\n"
     ]
    }
   ],
   "source": [
    "import numpy as np\n",
    "\n",
    "a = np.array([10,7,2,0])\n",
    "b = np.array([10,9,8,7,6,5,4,3,2,1])\n",
    "print (a == b)\n",
    "print ('-'*50)\n",
    "c = a [...,np.newaxis] == b\n",
    "print (c)\n",
    "print ('c location'+'-'*50)\n",
    "print (np.where(c))\n",
    "print ('Axis 1 combine'+'-'*50)\n",
    "print (np.where(c.any(1)))\n",
    "print ('-'*50)\n",
    "print (np.where(c.any(0)))\n",
    "print ('-'*50)\n",
    "print (np.where(c.any((1,0))))"
   ]
  },
  {
   "cell_type": "code",
   "execution_count": 5,
   "metadata": {},
   "outputs": [
    {
     "name": "stdout",
     "output_type": "stream",
     "text": [
      "[[2 0 4]\n",
      " [0 3 2]\n",
      " [1 2 0]\n",
      " [0 2 4]\n",
      " [1 4 1]\n",
      " [0 0 1]\n",
      " [3 0 4]\n",
      " [4 3 4]]\n",
      "[[3 0]\n",
      " [4 0]]\n",
      "--------------------------------------------------\n",
      "(array([0, 0, 0, 1, 1, 1, 2, 2, 3, 3, 3, 4, 5, 5, 5, 5, 6, 6, 6, 6, 7, 7,\n",
      "       7], dtype=int64), array([1, 1, 2, 0, 0, 1, 2, 2, 0, 0, 2, 1, 0, 0, 1, 1, 0, 1, 1, 2, 0, 1,\n",
      "       2], dtype=int64), array([0, 1, 1, 0, 1, 0, 0, 1, 0, 1, 1, 1, 0, 1, 0, 1, 0, 0, 1, 1, 1, 0,\n",
      "       1], dtype=int64), array([1, 1, 0, 1, 1, 0, 1, 1, 1, 1, 0, 0, 1, 1, 1, 1, 0, 1, 1, 0, 0, 0,\n",
      "       0], dtype=int64))\n",
      "--------------------------------------------------\n",
      "(array([0, 0, 0, 1, 1, 1, 2, 2, 3, 3, 3, 4, 5, 5, 5, 5, 6, 6, 6, 6, 7, 7,\n",
      "       7], dtype=int64), array([1, 1, 2, 0, 0, 1, 2, 2, 0, 0, 2, 1, 0, 0, 1, 1, 0, 1, 1, 2, 0, 1,\n",
      "       2], dtype=int64), array([0, 1, 1, 0, 1, 0, 0, 1, 0, 1, 1, 1, 0, 1, 0, 1, 0, 0, 1, 1, 1, 0,\n",
      "       1], dtype=int64))\n",
      "--------------------------------------------------\n",
      "(array([0, 0, 1, 1, 2, 3, 3, 4, 5, 5, 6, 6, 6, 7, 7, 7], dtype=int64), array([1, 2, 0, 1, 2, 0, 2, 1, 0, 1, 0, 1, 2, 0, 1, 2], dtype=int64), array([1, 0, 1, 0, 1, 1, 0, 0, 1, 1, 0, 1, 0, 0, 0, 0], dtype=int64))\n",
      "--------------------------------------------------\n",
      "(array([0, 0, 0, 1, 1, 1, 2, 2, 3, 3, 3, 4, 5, 5, 6, 6, 6, 6, 7, 7],\n",
      "      dtype=int64), array([0, 1, 1, 0, 0, 1, 0, 1, 0, 1, 1, 1, 0, 1, 0, 0, 1, 1, 0, 1],\n",
      "      dtype=int64), array([1, 0, 1, 0, 1, 1, 1, 1, 1, 0, 1, 0, 1, 1, 0, 1, 0, 1, 0, 0],\n",
      "      dtype=int64))\n",
      "--------------------------------------------------\n",
      "(array([0, 0, 1, 1, 2, 2, 3, 3, 4, 5, 5, 6, 6, 7, 7], dtype=int64), array([0, 1, 0, 1, 0, 1, 0, 1, 1, 0, 1, 0, 1, 0, 1], dtype=int64))\n",
      "--------------------------------------------------\n",
      "(array([1], dtype=int64),)\n",
      "--------------------------------------------------\n",
      "[0 1 2 3 5 6 7]\n"
     ]
    }
   ],
   "source": [
    "import numpy as np\n",
    "A = np.random.randint(0,5,(8,3))\n",
    "B = np.random.randint(0,5,(2,2))\n",
    "\n",
    "C = (A[:,:,np.newaxis, np.newaxis] == B)\n",
    "print (A)\n",
    "print (B)\n",
    "\n",
    "rows = np.where(C.any((3,1)).all(1))[0]\n",
    "print ('-'*50)\n",
    "print (np.where(C))\n",
    "print ('-'*50)\n",
    "print (np.where(C.any((3))))\n",
    "print ('-'*50)\n",
    "print (np.where(C.any((2))))\n",
    "print ('-'*50)\n",
    "print (np.where(C.any((1))))\n",
    "print ('-'*50)\n",
    "print (np.where(C.any((3,1))))\n",
    "print ('-'*50)\n",
    "print (np.where(C.any((3,1)).all(0)))\n",
    "print ('-'*50)\n",
    "print (rows)"
   ]
  },
  {
   "cell_type": "code",
   "execution_count": 5,
   "metadata": {},
   "outputs": [
    {
     "name": "stdout",
     "output_type": "stream",
     "text": [
      "False\n",
      "--------------------------------------------------\n",
      "[[ True False False False False False False False False False]\n",
      " [False False False  True False False False False False False]\n",
      " [False False False False False False False False  True False]\n",
      " [False False False False False False False False False False]]\n",
      "C location--------------------------------------------------\n",
      "(array([0, 1, 2], dtype=int64), array([0, 3, 8], dtype=int64))\n",
      "Axis 1 combine--------------------------------------------------\n",
      "(array([0, 1, 2], dtype=int64),)\n",
      "--------------------------------------------------\n",
      "19\n"
     ]
    },
    {
     "name": "stderr",
     "output_type": "stream",
     "text": [
      "<ipython-input-5-c562bec63b74>:5: DeprecationWarning: elementwise comparison failed; this will raise an error in the future.\n",
      "  print (A == B)\n"
     ]
    }
   ],
   "source": [
    "import numpy as np\n",
    "\n",
    "A = np.array([10,7,2,0])\n",
    "B = np.array([10,9,8,7,6,5,4,3,2,1])\n",
    "print (A == B)\n",
    "print ('-'*50)\n",
    "C = A [...,np.newaxis] == B\n",
    "print (C)\n",
    "print ('C location'+'-'*50)\n",
    "print (np.where(C))\n",
    "print ('Axis 1 combine'+'-'*50)\n",
    "print (np.where(C.any(1)))\n",
    "print ('-'*50)\n",
    "D = A [np.where(C.any(1))[0]]\n",
    "print (D.sum(0))"
   ]
  },
  {
   "cell_type": "code",
   "execution_count": 17,
   "metadata": {},
   "outputs": [
    {
     "name": "stdout",
     "output_type": "stream",
     "text": [
      "[[ 1  2  3  4  5]\n",
      " [ 6  7  8  9 10]] \n",
      "\n",
      "0轴折叠\n",
      " [ 7  9 11 13 15]\n",
      "1轴折叠\n",
      " [15 40]\n"
     ]
    }
   ],
   "source": [
    "import numpy as np # 创建一个二维数组\n",
    "A = np.arange(1,11).reshape(2,5)\n",
    "print (A,\"\\n\")\n",
    "sum0 = A.sum(0)\n",
    "sum1 = A.sum(1)\n",
    "print(\"0轴折叠\\n\",sum0)\n",
    "print(\"1轴折叠\\n\",sum1)\n"
   ]
  },
  {
   "cell_type": "code",
   "execution_count": null,
   "metadata": {},
   "outputs": [],
   "source": []
  }
 ],
 "metadata": {
  "kernelspec": {
   "display_name": "Python 3",
   "language": "python",
   "name": "python3"
  },
  "language_info": {
   "codemirror_mode": {
    "name": "ipython",
    "version": 3
   },
   "file_extension": ".py",
   "mimetype": "text/x-python",
   "name": "python",
   "nbconvert_exporter": "python",
   "pygments_lexer": "ipython3",
   "version": "3.8.6"
  }
 },
 "nbformat": 4,
 "nbformat_minor": 4
}
